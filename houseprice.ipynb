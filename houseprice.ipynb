{
 "cells": [
  {
   "cell_type": "markdown",
   "metadata": {},
   "source": [
    "# Import necessary modules"
   ]
  },
  {
   "cell_type": "code",
   "execution_count": 789,
   "metadata": {},
   "outputs": [],
   "source": [
    "import pandas as pd\n",
    "import numpy as  np\n",
    "import random as rnd\n",
    "import numpy as np\n",
    "import pandas as pd\n",
    "import seaborn as sns\n",
    "import math\n",
    "import matplotlib.pyplot as plt\n",
    "from scipy.stats import skew\n",
    "from sklearn.ensemble import RandomForestClassifier\n",
    "from sklearn.preprocessing import LabelEncoder\n",
    "from sklearn.preprocessing import StandardScaler\n",
    "from sklearn.linear_model import LinearRegression,Ridge,RidgeCV,LassoCV,LassoLarsCV\n",
    "from sklearn.model_selection import cross_val_score\n",
    "%matplotlib inline"
   ]
  },
  {
   "cell_type": "markdown",
   "metadata": {},
   "source": [
    "# Read Data and view details using method info()"
   ]
  },
  {
   "cell_type": "code",
   "execution_count": 790,
   "metadata": {
    "scrolled": true
   },
   "outputs": [
    {
     "name": "stdout",
     "output_type": "stream",
     "text": [
      "<class 'pandas.core.frame.DataFrame'>\n",
      "RangeIndex: 1460 entries, 0 to 1459\n",
      "Data columns (total 81 columns):\n",
      "Id               1460 non-null int64\n",
      "MSSubClass       1460 non-null int64\n",
      "MSZoning         1460 non-null object\n",
      "LotFrontage      1201 non-null float64\n",
      "LotArea          1460 non-null int64\n",
      "Street           1460 non-null object\n",
      "Alley            91 non-null object\n",
      "LotShape         1460 non-null object\n",
      "LandContour      1460 non-null object\n",
      "Utilities        1460 non-null object\n",
      "LotConfig        1460 non-null object\n",
      "LandSlope        1460 non-null object\n",
      "Neighborhood     1460 non-null object\n",
      "Condition1       1460 non-null object\n",
      "Condition2       1460 non-null object\n",
      "BldgType         1460 non-null object\n",
      "HouseStyle       1460 non-null object\n",
      "OverallQual      1460 non-null int64\n",
      "OverallCond      1460 non-null int64\n",
      "YearBuilt        1460 non-null int64\n",
      "YearRemodAdd     1460 non-null int64\n",
      "RoofStyle        1460 non-null object\n",
      "RoofMatl         1460 non-null object\n",
      "Exterior1st      1460 non-null object\n",
      "Exterior2nd      1460 non-null object\n",
      "MasVnrType       1452 non-null object\n",
      "MasVnrArea       1452 non-null float64\n",
      "ExterQual        1460 non-null object\n",
      "ExterCond        1460 non-null object\n",
      "Foundation       1460 non-null object\n",
      "BsmtQual         1423 non-null object\n",
      "BsmtCond         1423 non-null object\n",
      "BsmtExposure     1422 non-null object\n",
      "BsmtFinType1     1423 non-null object\n",
      "BsmtFinSF1       1460 non-null int64\n",
      "BsmtFinType2     1422 non-null object\n",
      "BsmtFinSF2       1460 non-null int64\n",
      "BsmtUnfSF        1460 non-null int64\n",
      "TotalBsmtSF      1460 non-null int64\n",
      "Heating          1460 non-null object\n",
      "HeatingQC        1460 non-null object\n",
      "CentralAir       1460 non-null object\n",
      "Electrical       1459 non-null object\n",
      "1stFlrSF         1460 non-null int64\n",
      "2ndFlrSF         1460 non-null int64\n",
      "LowQualFinSF     1460 non-null int64\n",
      "GrLivArea        1460 non-null int64\n",
      "BsmtFullBath     1460 non-null int64\n",
      "BsmtHalfBath     1460 non-null int64\n",
      "FullBath         1460 non-null int64\n",
      "HalfBath         1460 non-null int64\n",
      "BedroomAbvGr     1460 non-null int64\n",
      "KitchenAbvGr     1460 non-null int64\n",
      "KitchenQual      1460 non-null object\n",
      "TotRmsAbvGrd     1460 non-null int64\n",
      "Functional       1460 non-null object\n",
      "Fireplaces       1460 non-null int64\n",
      "FireplaceQu      770 non-null object\n",
      "GarageType       1379 non-null object\n",
      "GarageYrBlt      1379 non-null float64\n",
      "GarageFinish     1379 non-null object\n",
      "GarageCars       1460 non-null int64\n",
      "GarageArea       1460 non-null int64\n",
      "GarageQual       1379 non-null object\n",
      "GarageCond       1379 non-null object\n",
      "PavedDrive       1460 non-null object\n",
      "WoodDeckSF       1460 non-null int64\n",
      "OpenPorchSF      1460 non-null int64\n",
      "EnclosedPorch    1460 non-null int64\n",
      "3SsnPorch        1460 non-null int64\n",
      "ScreenPorch      1460 non-null int64\n",
      "PoolArea         1460 non-null int64\n",
      "PoolQC           7 non-null object\n",
      "Fence            281 non-null object\n",
      "MiscFeature      54 non-null object\n",
      "MiscVal          1460 non-null int64\n",
      "MoSold           1460 non-null int64\n",
      "YrSold           1460 non-null int64\n",
      "SaleType         1460 non-null object\n",
      "SaleCondition    1460 non-null object\n",
      "SalePrice        1460 non-null int64\n",
      "dtypes: float64(3), int64(35), object(43)\n",
      "memory usage: 678.7+ KB\n",
      "------------------------------------------------------------------------------------------\n",
      "<class 'pandas.core.frame.DataFrame'>\n",
      "RangeIndex: 1459 entries, 0 to 1458\n",
      "Data columns (total 80 columns):\n",
      "Id               1459 non-null int64\n",
      "MSSubClass       1459 non-null int64\n",
      "MSZoning         1455 non-null object\n",
      "LotFrontage      1232 non-null float64\n",
      "LotArea          1459 non-null int64\n",
      "Street           1459 non-null object\n",
      "Alley            107 non-null object\n",
      "LotShape         1459 non-null object\n",
      "LandContour      1459 non-null object\n",
      "Utilities        1457 non-null object\n",
      "LotConfig        1459 non-null object\n",
      "LandSlope        1459 non-null object\n",
      "Neighborhood     1459 non-null object\n",
      "Condition1       1459 non-null object\n",
      "Condition2       1459 non-null object\n",
      "BldgType         1459 non-null object\n",
      "HouseStyle       1459 non-null object\n",
      "OverallQual      1459 non-null int64\n",
      "OverallCond      1459 non-null int64\n",
      "YearBuilt        1459 non-null int64\n",
      "YearRemodAdd     1459 non-null int64\n",
      "RoofStyle        1459 non-null object\n",
      "RoofMatl         1459 non-null object\n",
      "Exterior1st      1458 non-null object\n",
      "Exterior2nd      1458 non-null object\n",
      "MasVnrType       1443 non-null object\n",
      "MasVnrArea       1444 non-null float64\n",
      "ExterQual        1459 non-null object\n",
      "ExterCond        1459 non-null object\n",
      "Foundation       1459 non-null object\n",
      "BsmtQual         1415 non-null object\n",
      "BsmtCond         1414 non-null object\n",
      "BsmtExposure     1415 non-null object\n",
      "BsmtFinType1     1417 non-null object\n",
      "BsmtFinSF1       1458 non-null float64\n",
      "BsmtFinType2     1417 non-null object\n",
      "BsmtFinSF2       1458 non-null float64\n",
      "BsmtUnfSF        1458 non-null float64\n",
      "TotalBsmtSF      1458 non-null float64\n",
      "Heating          1459 non-null object\n",
      "HeatingQC        1459 non-null object\n",
      "CentralAir       1459 non-null object\n",
      "Electrical       1459 non-null object\n",
      "1stFlrSF         1459 non-null int64\n",
      "2ndFlrSF         1459 non-null int64\n",
      "LowQualFinSF     1459 non-null int64\n",
      "GrLivArea        1459 non-null int64\n",
      "BsmtFullBath     1457 non-null float64\n",
      "BsmtHalfBath     1457 non-null float64\n",
      "FullBath         1459 non-null int64\n",
      "HalfBath         1459 non-null int64\n",
      "BedroomAbvGr     1459 non-null int64\n",
      "KitchenAbvGr     1459 non-null int64\n",
      "KitchenQual      1458 non-null object\n",
      "TotRmsAbvGrd     1459 non-null int64\n",
      "Functional       1457 non-null object\n",
      "Fireplaces       1459 non-null int64\n",
      "FireplaceQu      729 non-null object\n",
      "GarageType       1383 non-null object\n",
      "GarageYrBlt      1381 non-null float64\n",
      "GarageFinish     1381 non-null object\n",
      "GarageCars       1458 non-null float64\n",
      "GarageArea       1458 non-null float64\n",
      "GarageQual       1381 non-null object\n",
      "GarageCond       1381 non-null object\n",
      "PavedDrive       1459 non-null object\n",
      "WoodDeckSF       1459 non-null int64\n",
      "OpenPorchSF      1459 non-null int64\n",
      "EnclosedPorch    1459 non-null int64\n",
      "3SsnPorch        1459 non-null int64\n",
      "ScreenPorch      1459 non-null int64\n",
      "PoolArea         1459 non-null int64\n",
      "PoolQC           3 non-null object\n",
      "Fence            290 non-null object\n",
      "MiscFeature      51 non-null object\n",
      "MiscVal          1459 non-null int64\n",
      "MoSold           1459 non-null int64\n",
      "YrSold           1459 non-null int64\n",
      "SaleType         1458 non-null object\n",
      "SaleCondition    1459 non-null object\n",
      "dtypes: float64(11), int64(26), object(43)\n",
      "memory usage: 666.8+ KB\n"
     ]
    }
   ],
   "source": [
    "trainset = pd.read_csv('train.csv')\n",
    "testset = pd.read_csv('test.csv')\n",
    "combine = [trainset,testset]\n",
    "y_train = trainset['SalePrice']\n",
    "test_Id = testset['Id']\n",
    "\n",
    "trainset.info()\n",
    "print('-'*90)\n",
    "testset.info()"
   ]
  },
  {
   "cell_type": "code",
   "execution_count": 791,
   "metadata": {},
   "outputs": [
    {
     "name": "stdout",
     "output_type": "stream",
     "text": [
      "[  0 512 648 576 555 480 519 738]\n"
     ]
    }
   ],
   "source": [
    "print(trainset['PoolArea'].unique())"
   ]
  },
  {
   "cell_type": "markdown",
   "metadata": {},
   "source": [
    "# Remove the features with very high NaN values"
   ]
  },
  {
   "cell_type": "code",
   "execution_count": 792,
   "metadata": {
    "collapsed": true,
    "scrolled": true
   },
   "outputs": [],
   "source": [
    "for each in combine:\n",
    "    each.drop(['Id'],axis=1,inplace=True)"
   ]
  },
  {
   "cell_type": "markdown",
   "metadata": {},
   "source": [
    "# Remove Outliers"
   ]
  },
  {
   "cell_type": "code",
   "execution_count": 793,
   "metadata": {},
   "outputs": [
    {
     "data": {
      "image/png": "[encoded data removed]",
      "text/plain": [
       "<matplotlib.figure.Figure at 0x9cb3d34c>"
      ]
     },
     "metadata": {},
     "output_type": "display_data"
    }
   ],
   "source": [
    "plt.scatter(trainset.GrLivArea,y_train)\n",
    "plt.xlabel(\"GrLivArea\")\n",
    "plt.ylabel('SalePrice')\n",
    "plt.show()"
   ]
  },
  {
   "cell_type": "code",
   "execution_count": 794,
   "metadata": {},
   "outputs": [
    {
     "data": {
      "image/png": "[encoded data removed]",
      "text/plain": [
       "<matplotlib.figure.Figure at 0xa13b36cc>"
      ]
     },
     "metadata": {},
     "output_type": "display_data"
    }
   ],
   "source": [
    "plt.scatter(trainset.OverallCond,y_train,alpha = 0.3)\n",
    "plt.xlabel(\"OverallCond\")\n",
    "plt.ylabel('SalePrice')\n",
    "plt.show()"
   ]
  },
  {
   "cell_type": "code",
   "execution_count": 795,
   "metadata": {
    "collapsed": true,
    "scrolled": true
   },
   "outputs": [],
   "source": [
    "#trainset.drop(trainset[trainset['GrLivArea']>4500].index,inplace =True)"
   ]
  },
  {
   "cell_type": "markdown",
   "metadata": {},
   "source": [
    "# Preparing Train dataset"
   ]
  },
  {
   "cell_type": "markdown",
   "metadata": {},
   "source": [
    "Seperate the categorical and numerical variable and\n",
    "Create different dataframes for each"
   ]
  },
  {
   "cell_type": "code",
   "execution_count": 796,
   "metadata": {
    "scrolled": false
   },
   "outputs": [
    {
     "name": "stdout",
     "output_type": "stream",
     "text": [
      "Index(['MSSubClass', 'LotFrontage', 'LotArea', 'OverallQual', 'OverallCond',\n",
      "       'YearBuilt', 'YearRemodAdd', 'MasVnrArea', 'BsmtFinSF1', 'BsmtFinSF2',\n",
      "       'BsmtUnfSF', 'TotalBsmtSF', '1stFlrSF', '2ndFlrSF', 'LowQualFinSF',\n",
      "       'GrLivArea', 'BsmtFullBath', 'BsmtHalfBath', 'FullBath', 'HalfBath',\n",
      "       'BedroomAbvGr', 'KitchenAbvGr', 'TotRmsAbvGrd', 'Fireplaces',\n",
      "       'GarageYrBlt', 'GarageCars', 'GarageArea', 'WoodDeckSF', 'OpenPorchSF',\n",
      "       'EnclosedPorch', '3SsnPorch', 'ScreenPorch', 'PoolArea', 'MiscVal',\n",
      "       'MoSold', 'YrSold', 'SalePrice'],\n",
      "      dtype='object')\n"
     ]
    }
   ],
   "source": [
    "cat = trainset.select_dtypes(include=['object']).columns\n",
    "num = trainset.select_dtypes(exclude=['object']).columns\n",
    "\n",
    "train_cat = trainset[cat]\n",
    "train_num = trainset[num]\n",
    "trainset.drop(cat,1,inplace=True)\n",
    "trainset.drop(num,1,inplace=True)\n",
    "\n",
    "print(train_num.columns)"
   ]
  },
  {
   "cell_type": "markdown",
   "metadata": {},
   "source": [
    "Filling some NA values with mean "
   ]
  },
  {
   "cell_type": "code",
   "execution_count": 797,
   "metadata": {
    "scrolled": true
   },
   "outputs": [
    {
     "name": "stderr",
     "output_type": "stream",
     "text": [
      "/home/mohan/.local/lib/python3.5/site-packages/pandas/core/indexing.py:601: SettingWithCopyWarning: \n",
      "A value is trying to be set on a copy of a slice from a DataFrame.\n",
      "Try using .loc[row_indexer,col_indexer] = value instead\n",
      "\n",
      "See the caveats in the documentation: http://pandas.pydata.org/pandas-docs/stable/indexing.html#indexing-view-versus-copy\n",
      "  self.obj[item_labels[indexer[info_axis]]] = value\n"
     ]
    },
    {
     "name": "stdout",
     "output_type": "stream",
     "text": [
      "SaleCondition    0\n",
      "Condition2       0\n",
      "ExterQual        0\n",
      "MasVnrType       0\n",
      "Exterior2nd      0\n",
      "Exterior1st      0\n",
      "RoofMatl         0\n",
      "RoofStyle        0\n",
      "HouseStyle       0\n",
      "BldgType         0\n",
      "Condition1       0\n",
      "Foundation       0\n",
      "Neighborhood     0\n",
      "LandSlope        0\n",
      "LotConfig        0\n",
      "Utilities        0\n",
      "LandContour      0\n",
      "LotShape         0\n",
      "Alley            0\n",
      "Street           0\n",
      "ExterCond        0\n",
      "BsmtQual         0\n",
      "SaleType         0\n",
      "FireplaceQu      0\n",
      "MiscFeature      0\n",
      "Fence            0\n",
      "PoolQC           0\n",
      "PavedDrive       0\n",
      "GarageCond       0\n",
      "GarageQual       0\n",
      "GarageFinish     0\n",
      "GarageType       0\n",
      "Functional       0\n",
      "BsmtCond         0\n",
      "KitchenQual      0\n",
      "Electrical       0\n",
      "CentralAir       0\n",
      "HeatingQC        0\n",
      "Heating          0\n",
      "BsmtFinType2     0\n",
      "BsmtFinType1     0\n",
      "BsmtExposure     0\n",
      "MSZoning         0\n",
      "dtype: int64\n",
      "SalePrice        0\n",
      "BsmtHalfBath     0\n",
      "GrLivArea        0\n",
      "LowQualFinSF     0\n",
      "2ndFlrSF         0\n",
      "1stFlrSF         0\n",
      "TotalBsmtSF      0\n",
      "BsmtUnfSF        0\n",
      "BsmtFinSF2       0\n",
      "BsmtFinSF1       0\n",
      "MasVnrArea       0\n",
      "YearRemodAdd     0\n",
      "YearBuilt        0\n",
      "OverallCond      0\n",
      "OverallQual      0\n",
      "LotArea          0\n",
      "LotFrontage      0\n",
      "BsmtFullBath     0\n",
      "FullBath         0\n",
      "YrSold           0\n",
      "HalfBath         0\n",
      "MoSold           0\n",
      "MiscVal          0\n",
      "PoolArea         0\n",
      "ScreenPorch      0\n",
      "3SsnPorch        0\n",
      "EnclosedPorch    0\n",
      "OpenPorchSF      0\n",
      "WoodDeckSF       0\n",
      "GarageArea       0\n",
      "GarageCars       0\n",
      "GarageYrBlt      0\n",
      "Fireplaces       0\n",
      "TotRmsAbvGrd     0\n",
      "KitchenAbvGr     0\n",
      "BedroomAbvGr     0\n",
      "MSSubClass       0\n",
      "dtype: int64\n"
     ]
    }
   ],
   "source": [
    "train_cat.loc[:, \"Alley\"] = train_cat.loc[:, \"Alley\"].fillna(\"No\")\n",
    "train_cat.loc[:, \"Fence\"] = train_cat.loc[:, \"Fence\"].fillna(\"No\")\n",
    "train_cat.loc[:, \"PoolQC\"] = train_cat.loc[:, \"PoolQC\"].fillna(\"No\")\n",
    "train_cat.loc[:, \"MiscFeature\"] = train_cat.loc[:, \"MiscFeature\"].fillna(\"No\")\n",
    "train_cat.loc[:, \"FireplaceQu\"] = train_cat.loc[:, \"FireplaceQu\"].fillna(\"No\")\n",
    "train_cat.loc[:, \"GarageType\"] = train_cat.loc[:, \"GarageType\"].fillna(\"No\")\n",
    "train_cat.loc[:, \"GarageFinish\"] = train_cat.loc[:, \"GarageFinish\"].fillna(\"No\")\n",
    "train_cat.loc[:, \"GarageQual\"] = train_cat.loc[:, \"GarageQual\"].fillna(\"No\")\n",
    "train_cat.loc[:, \"GarageCond\"] = train_cat.loc[:, \"GarageCond\"].fillna(\"No\")\n",
    "train_cat.loc[:, \"BsmtQual\"] = train_cat.loc[:, \"BsmtQual\"].fillna(\"No\")\n",
    "train_cat.loc[:, \"BsmtCond\"] = train_cat.loc[:, \"BsmtCond\"].fillna(\"No\")\n",
    "train_cat.loc[:, \"BsmtExposure\"] = train_cat.loc[:, \"BsmtExposure\"].fillna(\"No\")\n",
    "train_cat.loc[:, \"BsmtFinType1\"] = train_cat.loc[:, \"BsmtFinType1\"].fillna(\"No\")\n",
    "train_cat.loc[:, \"MasVnrType\"] = train_cat.loc[:, \"MasVnrType\"].fillna(\"None\")\n",
    "train_cat.loc[:, \"BsmtFinType2\"] = train_cat.loc[:, \"BsmtFinType2\"].fillna(\"No\")\n",
    "train_cat.loc[:, \"Electrical\"] = train_cat.loc[:,\"Electrical\"].fillna(\"SBrkr\")\n",
    "train_cat.loc[:, \"MSZoning\"] = train_cat.loc[:,\"MSZoning\"].fillna(train_cat.loc[:,'MSZoning'].mode())\n",
    "train_cat.loc[:, \"Functional\"] = train_cat.loc[:,\"Functional\"].fillna(train_cat.loc[:,'Functional'].mode())\n",
    "train_cat.loc[:, \"Utilities\"] = train_cat.loc[:,\"Utilities\"].fillna(train_cat.loc[:,'Utilities'].mode())\n",
    "train_cat.loc[:, \"SaleType\"] = train_cat.loc[:,\"SaleType\"].fillna(train_cat.loc[:,'SaleType'].mode())\n",
    "train_cat.loc[:, \"Exterior2nd\"] = train_cat.loc[:,\"Exterior2nd\"].fillna(train_cat.loc[:,'Exterior2nd'].mode())\n",
    "train_cat.loc[:, \"Exterior1st\"] = train_cat.loc[:,\"Exterior1st\"].fillna(train_cat.loc[:,'Exterior1st'].mode())\n",
    "train_cat.loc[:, \"KitchenQual\"] = train_cat.loc[:,\"KitchenQual\"].fillna(train_cat.loc[:,'KitchenQual'].mode())\n",
    "\n",
    "train_num = train_num.fillna(train_num.mean())\n",
    "\n",
    "print(train_cat.isnull().sum().sort_values(ascending=False))\n",
    "print(train_num.isnull().sum().sort_values(ascending=False))\n",
    "\n",
    "#train_num = np.log(train_num)"
   ]
  },
  {
   "cell_type": "markdown",
   "metadata": {},
   "source": [
    "Convert some categorical features to numerical features"
   ]
  },
  {
   "cell_type": "code",
   "execution_count": 798,
   "metadata": {
    "scrolled": true
   },
   "outputs": [],
   "source": [
    "#trainset['MSSubClass'] = trainset['MSSubClass'].astype(str)"
   ]
  },
  {
   "cell_type": "code",
   "execution_count": 799,
   "metadata": {
    "collapsed": true
   },
   "outputs": [],
   "source": [
    "   train_num = train_num.replace({\"MSSubClass\" : {   \n",
    "    20:'1s46n',\n",
    "    30:'1s45o',\n",
    "    40:'1s_wfa_allages',\n",
    "    45:'112sunf',\n",
    "    50:'112sf',\n",
    "    60:'246n',\n",
    "    70:'245o',\n",
    "    75:'212s',\n",
    "    80:'spl_ml',\n",
    "    85:'spl_fo',\n",
    "    90:'duplex',\n",
    "    120:'1spud',\n",
    "    150:'112spud',\n",
    "    160:'2spud',\n",
    "    180:'pudm',\n",
    "    190:'2fc'}\n",
    "   })\n"
   ]
  },
  {
   "cell_type": "code",
   "execution_count": 800,
   "metadata": {},
   "outputs": [],
   "source": [
    "train_cat = train_cat.replace({\n",
    "\n",
    "    \"Alley\" : {\"No\" : 0, \"Grvl\" : 1, \"Pave\" : 2},\n",
    "                    \"Fence\" : {\"No\" : 0,\"GdPrv\" : 1, \"MnPrv\" : 2,\"GdWo\" : 3,\"MnWw\" :5},\n",
    "                    \"PoolQC\" : {\"No\" : 0,\"Fa\" : 1, \"TA\" : 2,\"Gd\" : 3,\"Ex\" :5},\n",
    "                    \"BsmtCond\" : {\"No\" : 0, \"Po\" : 1, \"Fa\" : 2, \"TA\" : 3, \"Gd\" : 4, \"Ex\" : 5},\n",
    "                    \"BsmtExposure\" : {\"No\" : 0, \"Mn\" : 1, \"Av\": 2, \"Gd\" : 3},\n",
    "                    \"BsmtFinType1\" : {\"No\" : 0, \"Unf\" : 1, \"LwQ\": 2, \"Rec\" : 3, \"BLQ\" : 4, \n",
    "                                         \"ALQ\" : 5, \"GLQ\" : 6},\n",
    "                    \"BsmtFinType2\" : {\"No\" : 0, \"Unf\" : 1, \"LwQ\": 2, \"Rec\" : 3, \"BLQ\" : 4, \n",
    "                                         \"ALQ\" : 5, \"GLQ\" : 6},\n",
    "                    \"BsmtQual\" : {\"No\" : 0, \"Po\" : 1, \"Fa\" : 2, \"TA\": 3, \"Gd\" : 4, \"Ex\" : 5},\n",
    "                       \"ExterCond\" : {\"Po\" : 1, \"Fa\" : 2, \"TA\": 3, \"Gd\": 4, \"Ex\" : 5},\n",
    "                       \"ExterQual\" : {\"Po\" : 1, \"Fa\" : 2, \"TA\": 3, \"Gd\": 4, \"Ex\" : 5},\n",
    "                       \"FireplaceQu\" : {\"No\" : 0, \"Po\" : 1, \"Fa\" : 2, \"TA\" : 3, \"Gd\" : 4, \"Ex\" : 5},\n",
    "                       \"Functional\" : {\"Sal\" : 1, \"Sev\" : 2, \"Maj2\" : 3, \"Maj1\" : 4, \"Mod\": 5, \n",
    "                                       \"Min2\" : 6, \"Min1\" : 7, \"Typ\" : 8},\n",
    "                       \"GarageCond\" : {\"No\" : 0, \"Po\" : 1, \"Fa\" : 2, \"TA\" : 3, \"Gd\" : 4, \"Ex\" : 5},\n",
    "                       \"GarageQual\" : {\"No\" : 0, \"Po\" : 1, \"Fa\" : 2, \"TA\" : 3, \"Gd\" : 4, \"Ex\" : 5},\n",
    "                       \"HeatingQC\" : {\"Po\" : 1, \"Fa\" : 2, \"TA\" : 3, \"Gd\" : 4, \"Ex\" : 5},\n",
    "                       \"KitchenQual\" : {\"Po\" : 1, \"Fa\" : 2, \"TA\" : 3, \"Gd\" : 4, \"Ex\" : 5},\n",
    "                       \"LandSlope\" : {\"Sev\" : 1, \"Mod\" : 2, \"Gtl\" : 3},\n",
    "                       \"LotShape\" : {\"IR3\" : 1, \"IR2\" : 2, \"IR1\" : 3, \"Reg\" : 4},\n",
    "                       \"PavedDrive\" : {\"N\" : 0, \"P\" : 1, \"Y\" : 2},\n",
    "                       \"PoolQC\" : {\"No\" : 0, \"Fa\" : 1, \"TA\" : 2, \"Gd\" : 3, \"Ex\" : 4},\n",
    "                       \"Street\" : {\"Grvl\" : 1, \"Pave\" : 2},\n",
    "                       \"Utilities\" : {\"ELO\" : 1, \"NoSeWa\" : 2, \"NoSewr\" : 3, \"AllPub\" : 4},                   \n",
    "                       \"LandContour\" : {\"Lvl\" : 1, \"Bnk\" : 2, \"Hls\" : 3, \"Low\" : 4},\n",
    "                       \"LotConfig\" : {\"Inside\" : 1, \"Corner\" : 2, \"CulDSac\" : 3, \"FR2\" : 4, \"FR3\" :5},\n",
    "                      \"BldgType\" : {\"1Fam\" : 1, \"2FmCon\" : 2, \"Duplx\" : 3, \"TwnhsE\" : 4, \"TwnhsI\" : 5},\n",
    "                      \n",
    "                \"RoofStyle\" : {\"Flat\" : 1, \"Gable\" : 2, \"Gambrel\" : 3, \"Hip\" : 4, \"Mansard\" :5 , \"Shed\" : 6}}\n",
    "                     )"
   ]
  },
  {
   "cell_type": "markdown",
   "metadata": {},
   "source": [
    "Now concatenate both categorical and numerical features into trainset"
   ]
  },
  {
   "cell_type": "code",
   "execution_count": 801,
   "metadata": {
    "collapsed": true
   },
   "outputs": [],
   "source": [
    "trainset = pd.concat([train_num,train_cat],axis =1)"
   ]
  },
  {
   "cell_type": "markdown",
   "metadata": {},
   "source": [
    "Then seperate both cat and num features again\n"
   ]
  },
  {
   "cell_type": "code",
   "execution_count": 802,
   "metadata": {
    "collapsed": true
   },
   "outputs": [],
   "source": [
    "cat = trainset.select_dtypes(include=['object']).columns\n",
    "num = trainset.select_dtypes(exclude=['object']).columns"
   ]
  },
  {
   "cell_type": "markdown",
   "metadata": {},
   "source": [
    "New numerical features also include the recently converted categorical features above"
   ]
  },
  {
   "cell_type": "code",
   "execution_count": 803,
   "metadata": {
    "collapsed": true
   },
   "outputs": [],
   "source": [
    "train_cat = trainset[cat]\n",
    "train_num = trainset[num]\n"
   ]
  },
  {
   "cell_type": "markdown",
   "metadata": {},
   "source": [
    "Check whether there were any NaN values in features"
   ]
  },
  {
   "cell_type": "code",
   "execution_count": 804,
   "metadata": {},
   "outputs": [
    {
     "name": "stdout",
     "output_type": "stream",
     "text": [
      "False\n",
      "False\n"
     ]
    }
   ],
   "source": [
    "print(train_cat.isnull().sum().any().any())\n",
    "print(train_num.isnull().sum().any().any())"
   ]
  },
  {
   "cell_type": "code",
   "execution_count": 805,
   "metadata": {
    "collapsed": true
   },
   "outputs": [],
   "source": [
    "trainset.drop(cat,1,inplace=True)\n",
    "trainset.drop(num,1,inplace=True)"
   ]
  },
  {
   "cell_type": "code",
   "execution_count": 806,
   "metadata": {},
   "outputs": [
    {
     "name": "stdout",
     "output_type": "stream",
     "text": [
      "(1460, 59)\n",
      "(1460, 21)\n"
     ]
    }
   ],
   "source": [
    "print(train_num.shape)\n",
    "print(train_cat.shape)"
   ]
  },
  {
   "cell_type": "markdown",
   "metadata": {},
   "source": [
    "We have 1460 sample data with 38 numerical features and 38 categorical features"
   ]
  },
  {
   "cell_type": "markdown",
   "metadata": {},
   "source": [
    "# Preparing test dataset"
   ]
  },
  {
   "cell_type": "markdown",
   "metadata": {},
   "source": [
    "Seperate the categorical and numerical variable and\n",
    "Create different dataframes for each"
   ]
  },
  {
   "cell_type": "code",
   "execution_count": 807,
   "metadata": {
    "collapsed": true,
    "scrolled": true
   },
   "outputs": [],
   "source": [
    "cat = testset.select_dtypes(include=['object']).columns\n",
    "num = testset.select_dtypes(exclude=['object']).columns\n",
    "\n",
    "test_cat = testset[cat]\n",
    "test_num = testset[num]\n",
    "\n",
    "testset.drop(cat,1,inplace=True)\n",
    "testset.drop(num,1,inplace=True)"
   ]
  },
  {
   "cell_type": "markdown",
   "metadata": {},
   "source": [
    "Filling some NA values with mean "
   ]
  },
  {
   "cell_type": "code",
   "execution_count": 808,
   "metadata": {
    "scrolled": true
   },
   "outputs": [
    {
     "name": "stderr",
     "output_type": "stream",
     "text": [
      "/home/mohan/.local/lib/python3.5/site-packages/pandas/core/indexing.py:601: SettingWithCopyWarning: \n",
      "A value is trying to be set on a copy of a slice from a DataFrame.\n",
      "Try using .loc[row_indexer,col_indexer] = value instead\n",
      "\n",
      "See the caveats in the documentation: http://pandas.pydata.org/pandas-docs/stable/indexing.html#indexing-view-versus-copy\n",
      "  self.obj[item_labels[indexer[info_axis]]] = value\n"
     ]
    },
    {
     "name": "stdout",
     "output_type": "stream",
     "text": [
      "0    RL\n",
      "dtype: object\n",
      "MiscFeature      1408\n",
      "SaleCondition       0\n",
      "Condition2          0\n",
      "ExterQual           0\n",
      "MasVnrType          0\n",
      "Exterior2nd         0\n",
      "Exterior1st         0\n",
      "RoofMatl            0\n",
      "RoofStyle           0\n",
      "HouseStyle          0\n",
      "BldgType            0\n",
      "Condition1          0\n",
      "Foundation          0\n",
      "Neighborhood        0\n",
      "LandSlope           0\n",
      "LotConfig           0\n",
      "Utilities           0\n",
      "LandContour         0\n",
      "LotShape            0\n",
      "Alley               0\n",
      "Street              0\n",
      "ExterCond           0\n",
      "BsmtQual            0\n",
      "SaleType            0\n",
      "BsmtCond            0\n",
      "Fence               0\n",
      "PoolQC              0\n",
      "PavedDrive          0\n",
      "GarageCond          0\n",
      "GarageQual          0\n",
      "GarageFinish        0\n",
      "GarageType          0\n",
      "FireplaceQu         0\n",
      "Functional          0\n",
      "KitchenQual         0\n",
      "Electrical          0\n",
      "CentralAir          0\n",
      "HeatingQC           0\n",
      "Heating             0\n",
      "BsmtFinType2        0\n",
      "BsmtFinType1        0\n",
      "BsmtExposure        0\n",
      "MSZoning            0\n",
      "dtype: int64\n",
      "YrSold           0\n",
      "MoSold           0\n",
      "GrLivArea        0\n",
      "LowQualFinSF     0\n",
      "2ndFlrSF         0\n",
      "1stFlrSF         0\n",
      "TotalBsmtSF      0\n",
      "BsmtUnfSF        0\n",
      "BsmtFinSF2       0\n",
      "BsmtFinSF1       0\n",
      "MasVnrArea       0\n",
      "YearRemodAdd     0\n",
      "YearBuilt        0\n",
      "OverallCond      0\n",
      "OverallQual      0\n",
      "LotArea          0\n",
      "LotFrontage      0\n",
      "BsmtFullBath     0\n",
      "BsmtHalfBath     0\n",
      "FullBath         0\n",
      "WoodDeckSF       0\n",
      "MiscVal          0\n",
      "PoolArea         0\n",
      "ScreenPorch      0\n",
      "3SsnPorch        0\n",
      "EnclosedPorch    0\n",
      "OpenPorchSF      0\n",
      "GarageArea       0\n",
      "HalfBath         0\n",
      "GarageCars       0\n",
      "GarageYrBlt      0\n",
      "Fireplaces       0\n",
      "TotRmsAbvGrd     0\n",
      "KitchenAbvGr     0\n",
      "BedroomAbvGr     0\n",
      "MSSubClass       0\n",
      "dtype: int64\n"
     ]
    }
   ],
   "source": [
    "test_cat.loc[:, \"Alley\"] = test_cat.loc[:, \"Alley\"].fillna(\"No\")\n",
    "test_cat.loc[:, \"Fence\"] = test_cat.loc[:, \"Fence\"].fillna(\"No\")\n",
    "test_cat.loc[:, \"PoolQC\"] = test_cat.loc[:, \"PoolQC\"].fillna(\"No\")\n",
    "test_cat.loc[:, \"FireplaceQu\"] = test_cat.loc[:, \"FireplaceQu\"].fillna(\"No\")\n",
    "test_cat.loc[:, \"GarageType\"] = test_cat.loc[:, \"GarageType\"].fillna(\"No\")\n",
    "test_cat.loc[:, \"GarageFinish\"] = test_cat.loc[:, \"GarageFinish\"].fillna(\"No\")\n",
    "test_cat.loc[:, \"GarageQual\"] = test_cat.loc[:, \"GarageQual\"].fillna(\"No\")\n",
    "test_cat.loc[:, \"GarageCond\"] = test_cat.loc[:, \"GarageCond\"].fillna(\"No\")\n",
    "test_cat.loc[:, \"BsmtQual\"] = test_cat.loc[:, \"BsmtQual\"].fillna(\"No\")\n",
    "test_cat.loc[:, \"BsmtCond\"] = test_cat.loc[:, \"BsmtCond\"].fillna(\"No\")\n",
    "test_cat.loc[:, \"BsmtExposure\"] = test_cat.loc[:, \"BsmtExposure\"].fillna(\"No\")\n",
    "test_cat.loc[:, \"BsmtFinType1\"] = test_cat.loc[:, \"BsmtFinType1\"].fillna(\"No\")\n",
    "test_cat.loc[:, \"MasVnrType\"] = test_cat.loc[:, \"MasVnrType\"].fillna(\"None\")\n",
    "test_cat.loc[:, \"BsmtFinType2\"] = test_cat.loc[:, \"BsmtFinType2\"].fillna(\"No\")\n",
    "test_cat.loc[:, \"Electrical\"] = test_cat.loc[:, \"Electrical\"].fillna(\"SBrkr\")\n",
    "test_cat.loc[:, \"MSZoning\"] = test_cat.loc[:, \"MSZoning\"].fillna(test_cat['MSZoning'].dropna().mode()[0])\n",
    "test_cat.loc[:, \"Functional\"] = test_cat.loc[:, \"Functional\"].fillna(test_cat.loc[:,'Functional'].mode()[0])\n",
    "test_cat.loc[:, \"Utilities\"] = test_cat.loc[:, \"Utilities\"].fillna(test_cat.loc[:,'Utilities'].mode()[0])\n",
    "test_cat.loc[:, \"SaleType\"] = test_cat.loc[:,\"SaleType\"].fillna(test_cat.loc[:,'SaleType'].mode()[0])\n",
    "test_cat.loc[:, \"Exterior2nd\"] = test_cat.loc[:, \"Exterior2nd\"].fillna(test_cat.loc[:,'Exterior2nd'].mode()[0])\n",
    "test_cat.loc[:, \"Exterior1st\"] = test_cat.loc[:, \"Exterior1st\"].fillna(test_cat.loc[:,'Exterior1st'].mode()[0])\n",
    "test_cat.loc[:, \"KitchenQual\"] = test_cat.loc[:, \"KitchenQual\"].fillna(test_cat.loc[:,'KitchenQual'].mode()[0])\n",
    "\n",
    "\n",
    "test_num = test_num.fillna(test_num.mean())\n",
    "\n",
    "print(test_cat['MSZoning'].dropna().mode())\n",
    "print(test_cat.isnull().sum().sort_values(ascending=False))\n",
    "print(test_num.isnull().sum().sort_values(ascending=False))\n",
    "\n",
    "\n",
    "#test_num = np.log(test_num)"
   ]
  },
  {
   "cell_type": "markdown",
   "metadata": {},
   "source": [
    "Convert some categorical features to numerical features"
   ]
  },
  {
   "cell_type": "code",
   "execution_count": 809,
   "metadata": {
    "collapsed": true
   },
   "outputs": [],
   "source": [
    "   test_num = test_num.replace({\"MSSubClass\" : {   \n",
    "    20:'1s46n',\n",
    "    30:'1s45o',\n",
    "    40:'1s_wfa_allages',\n",
    "    45:'112sunf',\n",
    "    50:'112sf',\n",
    "    60:'246n',\n",
    "    70:'245o',\n",
    "    75:'212s',\n",
    "    80:'spl_ml',\n",
    "    85:'spl_fo',\n",
    "    90:'duplex',\n",
    "    120:'1spud',\n",
    "    150:'112spud',\n",
    "    160:'2spud',\n",
    "    180:'pudm',\n",
    "    190:'2fc'}\n",
    "   })\n"
   ]
  },
  {
   "cell_type": "code",
   "execution_count": 810,
   "metadata": {
    "collapsed": true
   },
   "outputs": [],
   "source": [
    "test_cat = test_cat.replace({\n",
    "                    \"Alley\" : {\"No\" : 0, \"Grvl\" : 1, \"Pave\" : 2},\n",
    "                    \"Fence\" : {\"No\" : 0,\"GdPrv\" : 1, \"MnPrv\" : 2,\"GdWo\" : 3,\"MnWw\" :5},\n",
    "                    \"PoolQC\" : {\"No\" : 0,\"Fa\" : 1, \"TA\" : 2,\"Gd\" : 3,\"Ex\" :5},\n",
    "                       \"BsmtCond\" : {\"No\" : 0, \"Po\" : 1, \"Fa\" : 2, \"TA\" : 3, \"Gd\" : 4, \"Ex\" : 5},\n",
    "                       \"BsmtExposure\" : {\"No\" : 0, \"Mn\" : 1, \"Av\": 2, \"Gd\" : 3},\n",
    "                       \"BsmtFinType1\" : {\"No\" : 0, \"Unf\" : 1, \"LwQ\": 2, \"Rec\" : 3, \"BLQ\" : 4, \n",
    "                                         \"ALQ\" : 5, \"GLQ\" : 6},\n",
    "                       \"BsmtFinType2\" : {\"No\" : 0, \"Unf\" : 1, \"LwQ\": 2, \"Rec\" : 3, \"BLQ\" : 4, \n",
    "                                         \"ALQ\" : 5, \"GLQ\" : 6},\n",
    "                       \"BsmtQual\" : {\"No\" : 0, \"Po\" : 1, \"Fa\" : 2, \"TA\": 3, \"Gd\" : 4, \"Ex\" : 5},\n",
    "                       \"ExterCond\" : {\"Po\" : 1, \"Fa\" : 2, \"TA\": 3, \"Gd\": 4, \"Ex\" : 5},\n",
    "                       \"ExterQual\" : {\"Po\" : 1, \"Fa\" : 2, \"TA\": 3, \"Gd\": 4, \"Ex\" : 5},\n",
    "                       \"FireplaceQu\" : {\"No\" : 0, \"Po\" : 1, \"Fa\" : 2, \"TA\" : 3, \"Gd\" : 4, \"Ex\" : 5},\n",
    "                       \"Functional\" : {\"Sal\" : 1, \"Sev\" : 2, \"Maj2\" : 3, \"Maj1\" : 4, \"Mod\": 5, \n",
    "                                       \"Min2\" : 6, \"Min1\" : 7, \"Typ\" : 8},\n",
    "                       \"GarageCond\" : {\"No\" : 0, \"Po\" : 1, \"Fa\" : 2, \"TA\" : 3, \"Gd\" : 4, \"Ex\" : 5},\n",
    "                       \"GarageQual\" : {\"No\" : 0, \"Po\" : 1, \"Fa\" : 2, \"TA\" : 3, \"Gd\" : 4, \"Ex\" : 5},\n",
    "                       \"HeatingQC\" : {\"Po\" : 1, \"Fa\" : 2, \"TA\" : 3, \"Gd\" : 4, \"Ex\" : 5},\n",
    "                       \"KitchenQual\" : {\"Po\" : 1, \"Fa\" : 2, \"TA\" : 3, \"Gd\" : 4, \"Ex\" : 5},\n",
    "                       \"LandSlope\" : {\"Sev\" : 1, \"Mod\" : 2, \"Gtl\" : 3},\n",
    "                       \"LotShape\" : {\"IR3\" : 1, \"IR2\" : 2, \"IR1\" : 3, \"Reg\" : 4},\n",
    "                       \"PavedDrive\" : {\"N\" : 0, \"P\" : 1, \"Y\" : 2},\n",
    "                       \"PoolQC\" : {\"No\" : 0, \"Fa\" : 1, \"TA\" : 2, \"Gd\" : 3, \"Ex\" : 4},\n",
    "                       \"Street\" : {\"Grvl\" : 1, \"Pave\" : 2},\n",
    "                       \"Utilities\" : {\"ELO\" : 1, \"NoSeWa\" : 2, \"NoSewr\" : 3, \"AllPub\" : 4},\n",
    "                       \"LandContour\" : {\"Lvl\" : 1, \"Bnk\" : 2, \"Hls\" : 3, \"Low\" : 4},\n",
    "                       \"LotConfig\" : {\"Inside\" : 1, \"Corner\" : 2, \"CulDSac\" : 3, \"FR2\" : 4, \"FR3\" :5},\n",
    "                       \"BldgType\" : {\"1Fam\" : 1, \"2FmCon\" : 2, \"Duplx\" : 3, \"TwnhsE\" : 4, \"TwnhsI\" : 5},  \n",
    "                 \"RoofStyle\" : {\"Flat\" : 1, \"Gable\" : 2, \"Gambrel\" : 3, \"Hip\" : 4, \"Mansard\" :5 , \"Shed\" : 6} \n",
    "                          }\n",
    "                     )"
   ]
  },
  {
   "cell_type": "markdown",
   "metadata": {},
   "source": [
    "Now concatenate both categorical and numerical features into trainset"
   ]
  },
  {
   "cell_type": "code",
   "execution_count": 811,
   "metadata": {
    "collapsed": true,
    "scrolled": true
   },
   "outputs": [],
   "source": [
    "testset = pd.concat([test_num,test_cat],axis = 1)"
   ]
  },
  {
   "cell_type": "markdown",
   "metadata": {},
   "source": [
    "Then seperate both cat and num features again\n"
   ]
  },
  {
   "cell_type": "code",
   "execution_count": 812,
   "metadata": {
    "collapsed": true
   },
   "outputs": [],
   "source": [
    "cat = testset.select_dtypes(include=['object']).columns\n",
    "num = testset.select_dtypes(exclude=['object']).columns\n",
    "\n",
    "test_cat = testset[cat]\n",
    "test_num = testset[num]"
   ]
  },
  {
   "cell_type": "code",
   "execution_count": 813,
   "metadata": {},
   "outputs": [
    {
     "name": "stdout",
     "output_type": "stream",
     "text": [
      "(1459, 58)\n",
      "(1459, 21)\n"
     ]
    }
   ],
   "source": [
    "print(test_num.shape)\n",
    "print(test_cat.shape)"
   ]
  },
  {
   "cell_type": "markdown",
   "metadata": {},
   "source": [
    "We have 1459 sample data with 37 numerical and 38 categorical features\n",
    "The one less numerical feature is the Targeted Variable(y_train= 'SalePrice')\n",
    "\n",
    "We will drop it later after analyzing.\n"
   ]
  },
  {
   "cell_type": "markdown",
   "metadata": {},
   "source": [
    "# Improve the skewness"
   ]
  },
  {
   "cell_type": "markdown",
   "metadata": {},
   "source": [
    "skewness = train_num.apply(lambda x: skew(x))\n",
    "skewness = skewness[abs(skewness) > 0.5]\n",
    "print(str(skewness.shape[0]) + \" skewed numerical features to log transform\")\n",
    "skewed_features = skewness.index\n",
    "train_num[skewed_features] = np.log1p(train_num[skewed_features])\n",
    "\n",
    "\n",
    "#skewness = train_cat.apply(lambda x: skew(x))\n",
    "#skewness = skewness[abs(skewness) > 0.5]\n",
    "#print(str(skewness.shape[0]) + \" skewed cat->numerical features to log transform\")\n",
    "#skewed_features = skewness.index\n",
    "#train_cat[skewed_features] = np.log1p(train_cat[skewed_features])\n",
    "\n",
    "\n",
    "\n",
    "skewness = test_num.apply(lambda x: skew(x))\n",
    "skewness = skewness[abs(skewness) > 0.5]\n",
    "print(str(skewness.shape[0]) + \" skewed numerical features to log transform\")\n",
    "skewed_features = skewness.index\n",
    "test_num[skewed_features] = np.log1p(test_num[skewed_features])\n",
    "\n",
    "\n",
    "#skewness = test_cat.apply(lambda x: skew(x))\n",
    "#skewness = skewness[abs(skewness) > 0.5]\n",
    "#print(str(skewness.shape[0]) + \" skewed cat->numerical features to log transform\")\n",
    "#skewed_features = skewness.index\n",
    "#test_cat[skewed_features] = np.log1p(test_cat[skewed_features])\n",
    "\n"
   ]
  },
  {
   "cell_type": "markdown",
   "metadata": {},
   "source": [
    "# Creating dummies for Categorical features "
   ]
  },
  {
   "cell_type": "markdown",
   "metadata": {},
   "source": [
    "Combine all categorical features in train and test dataframe and create new dataframe all_cat\n",
    "Now create dummies using Pandas function .get_dummies(DataFrame)"
   ]
  },
  {
   "cell_type": "code",
   "execution_count": 814,
   "metadata": {},
   "outputs": [
    {
     "name": "stdout",
     "output_type": "stream",
     "text": [
      "(2919, 21)\n",
      "(2919, 173)\n"
     ]
    }
   ],
   "source": [
    "all_cat = pd.concat([train_cat,test_cat])\n",
    "\n",
    "print(all_cat.shape)\n",
    "\n",
    "all_cat = pd.get_dummies(all_cat)\n",
    "\n",
    "print(all_cat.shape)\n"
   ]
  },
  {
   "cell_type": "markdown",
   "metadata": {},
   "source": [
    "We can see the no of categorical features increased from 38 to 242 after creating dummies.\n",
    "Seperate all_cat to train and test categorical features.First 1460 samples were train df and last 1459 were test df."
   ]
  },
  {
   "cell_type": "code",
   "execution_count": 815,
   "metadata": {
    "scrolled": true
   },
   "outputs": [
    {
     "name": "stdout",
     "output_type": "stream",
     "text": [
      "<class 'pandas.core.frame.DataFrame'>\n",
      "Int64Index: 1460 entries, 0 to 1459\n",
      "Columns: 173 entries, MSSubClass_112sf to SaleCondition_Partial\n",
      "dtypes: uint8(173)\n",
      "memory usage: 258.1 KB\n",
      "None\n",
      "<class 'pandas.core.frame.DataFrame'>\n",
      "Int64Index: 1459 entries, 0 to 1458\n",
      "Columns: 173 entries, MSSubClass_112sf to SaleCondition_Partial\n",
      "dtypes: uint8(173)\n",
      "memory usage: 257.9 KB\n",
      "None\n"
     ]
    }
   ],
   "source": [
    "train_cat = all_cat[0:1460]\n",
    "test_cat = all_cat[-1459:]\n",
    "\n",
    "print(train_cat.info())\n",
    "print(test_cat.info())"
   ]
  },
  {
   "cell_type": "markdown",
   "metadata": {},
   "source": [
    "Check again for any NaN values in train and test df's"
   ]
  },
  {
   "cell_type": "code",
   "execution_count": 816,
   "metadata": {
    "scrolled": true
   },
   "outputs": [
    {
     "name": "stdout",
     "output_type": "stream",
     "text": [
      "False\n",
      "False\n",
      "False\n",
      "False\n"
     ]
    }
   ],
   "source": [
    "print(train_cat.isnull().any().any())\n",
    "print(train_num.isnull().any().any())\n",
    "print(test_cat.isnull().any().any())\n",
    "print(test_num.isnull().any().any())"
   ]
  },
  {
   "cell_type": "markdown",
   "metadata": {},
   "source": [
    "# Plot correlation heatmap and seperate bad features"
   ]
  },
  {
   "cell_type": "markdown",
   "metadata": {},
   "source": [
    "Create two arrays badnum and badcat which will hold the numerical and categorical features that have very less correaltion to 'SalePrice' our targeted varible."
   ]
  },
  {
   "cell_type": "markdown",
   "metadata": {},
   "source": [
    "We get this data by iterating over each feature name,finding its correlation with 'SalePrice' and appending to our array badnum or badcat if correlation is negative."
   ]
  },
  {
   "cell_type": "markdown",
   "metadata": {},
   "source": [
    "we use .corr() function to find correlation between features in a dataframe.It returns an array with size nxn, in this case 2x2 and our required corr coeff is at co[0,1]."
   ]
  },
  {
   "cell_type": "code",
   "execution_count": 817,
   "metadata": {
    "scrolled": true
   },
   "outputs": [
    {
     "name": "stdout",
     "output_type": "stream",
     "text": [
      "['OverallCond', 'BsmtFinSF2', 'LowQualFinSF', 'BsmtHalfBath', 'KitchenAbvGr', 'EnclosedPorch', 'MiscVal', 'YrSold', 'Alley', 'LotShape', 'LandSlope', 'BsmtFinType2', 'Fence']\n",
      "['MSSubClass_112sf', 'MSSubClass_112sunf', 'MSSubClass_1s45o', 'MSSubClass_1s_wfa_allages', 'MSSubClass_245o', 'MSSubClass_2fc', 'MSSubClass_2spud', 'MSSubClass_duplex', 'MSSubClass_pudm', 'MSSubClass_spl_fo', 'MSSubClass_spl_ml', 'MSZoning_C (all)', 'MSZoning_RH', 'MSZoning_RM', 'LandContour_1', 'LandContour_2', 'Neighborhood_Blueste', 'Neighborhood_BrDale', 'Neighborhood_BrkSide', 'Neighborhood_Edwards', 'Neighborhood_IDOTRR', 'Neighborhood_MeadowV', 'Neighborhood_Mitchel', 'Neighborhood_NAmes', 'Neighborhood_NPkVill', 'Neighborhood_OldTown', 'Neighborhood_SWISU', 'Neighborhood_Sawyer', 'Condition1_Artery', 'Condition1_Feedr', 'Condition1_RRAe', 'Condition2_Artery', 'Condition2_Feedr', 'Condition2_RRAn', 'Condition2_RRNn', 'BldgType_2fmCon', 'BldgType_Duplex', 'BldgType_Twnhs', 'HouseStyle_1.5Fin', 'HouseStyle_1.5Unf', 'HouseStyle_1Story', 'HouseStyle_2.5Unf', 'HouseStyle_SFoyer', 'HouseStyle_SLvl', 'RoofMatl_ClyTile', 'RoofMatl_CompShg', 'RoofMatl_Metal', 'RoofMatl_Roll', 'Exterior1st_AsbShng', 'Exterior1st_AsphShn', 'Exterior1st_BrkComm', 'Exterior1st_CBlock', 'Exterior1st_HdBoard', 'Exterior1st_MetalSd', 'Exterior1st_Plywood', 'Exterior1st_Stucco', 'Exterior1st_Wd Sdng', 'Exterior1st_WdShing', 'Exterior2nd_AsbShng', 'Exterior2nd_AsphShn', 'Exterior2nd_Brk Cmn', 'Exterior2nd_CBlock', 'Exterior2nd_HdBoard', 'Exterior2nd_MetalSd', 'Exterior2nd_Plywood', 'Exterior2nd_Stone', 'Exterior2nd_Stucco', 'Exterior2nd_Wd Sdng', 'Exterior2nd_Wd Shng', 'MasVnrType_BrkCmn', 'MasVnrType_None', 'Foundation_BrkTil', 'Foundation_CBlock', 'Foundation_Slab', 'Foundation_Stone', 'Heating_Floor', 'Heating_GasW', 'Heating_Grav', 'Heating_OthW', 'Heating_Wall', 'CentralAir_N', 'Electrical_FuseA', 'Electrical_FuseF', 'Electrical_FuseP', 'Electrical_Mix', 'GarageType_2Types', 'GarageType_Basment', 'GarageType_CarPort', 'GarageType_Detchd', 'GarageType_No', 'GarageFinish_No', 'GarageFinish_Unf', 'MiscFeature_Gar2', 'MiscFeature_Othr', 'MiscFeature_Shed', 'SaleType_COD', 'SaleType_ConLD', 'SaleType_ConLw', 'SaleType_Oth', 'SaleType_WD', 'SaleCondition_Abnorml', 'SaleCondition_AdjLand', 'SaleCondition_Alloca', 'SaleCondition_Family', 'SaleCondition_Normal']\n"
     ]
    }
   ],
   "source": [
    "badnum=[]\n",
    "for s in train_num.columns:\n",
    "    fe = pd.DataFrame(train_num[s])\n",
    "    data =pd.concat([fe,y_train],axis = 1)\n",
    "    co = data.corr()\n",
    "    if co.iloc[0,1]<0:\n",
    "        badnum.append(s)\n",
    "badcat=[]\n",
    "for s in train_cat.columns:\n",
    "    fe = pd.DataFrame(train_cat[s])\n",
    "    data =pd.concat([fe,y_train],axis = 1)\n",
    "    co = data.corr()\n",
    "    if co.iloc[0,1]<0:\n",
    "        badcat.append(s)\n",
    "print(badnum)\n",
    "print(badcat)"
   ]
  },
  {
   "cell_type": "code",
   "execution_count": 818,
   "metadata": {},
   "outputs": [
    {
     "name": "stdout",
     "output_type": "stream",
     "text": [
      "Index(['LotFrontage', 'LotArea', 'OverallQual', 'OverallCond', 'YearBuilt',\n",
      "       'YearRemodAdd', 'MasVnrArea', 'BsmtFinSF1', 'BsmtFinSF2', 'BsmtUnfSF',\n",
      "       'TotalBsmtSF', '1stFlrSF', '2ndFlrSF', 'LowQualFinSF', 'GrLivArea',\n",
      "       'BsmtFullBath', 'BsmtHalfBath', 'FullBath', 'HalfBath', 'BedroomAbvGr',\n",
      "       'KitchenAbvGr', 'TotRmsAbvGrd', 'Fireplaces', 'GarageYrBlt',\n",
      "       'GarageCars', 'GarageArea', 'WoodDeckSF', 'OpenPorchSF',\n",
      "       'EnclosedPorch', '3SsnPorch', 'ScreenPorch', 'PoolArea', 'MiscVal',\n",
      "       'MoSold', 'YrSold', 'SalePrice', 'Street', 'Alley', 'LotShape',\n",
      "       'Utilities', 'LotConfig', 'LandSlope', 'RoofStyle', 'ExterQual',\n",
      "       'ExterCond', 'BsmtQual', 'BsmtCond', 'BsmtExposure', 'BsmtFinType1',\n",
      "       'BsmtFinType2', 'HeatingQC', 'KitchenQual', 'Functional', 'FireplaceQu',\n",
      "       'GarageQual', 'GarageCond', 'PavedDrive', 'PoolQC', 'Fence'],\n",
      "      dtype='object')\n"
     ]
    }
   ],
   "source": [
    "print(train_num.columns)"
   ]
  },
  {
   "cell_type": "code",
   "execution_count": 819,
   "metadata": {
    "scrolled": false
   },
   "outputs": [
    {
     "data": {
      "image/png": "[encoded data removed]",
      "text/plain": [
       "<matplotlib.figure.Figure at 0x9e6e118c>"
      ]
     },
     "metadata": {},
     "output_type": "display_data"
    }
   ],
   "source": [
    "corr = train_num.corr()\n",
    "fig , ax = plt.subplots(figsize=(20,15))\n",
    "ax = sns.heatmap(corr)"
   ]
  },
  {
   "cell_type": "code",
   "execution_count": 820,
   "metadata": {
    "scrolled": true
   },
   "outputs": [
    {
     "name": "stderr",
     "output_type": "stream",
     "text": [
      "/home/mohan/.local/lib/python3.5/site-packages/ipykernel_launcher.py:1: SettingWithCopyWarning: \n",
      "A value is trying to be set on a copy of a slice from a DataFrame\n",
      "\n",
      "See the caveats in the documentation: http://pandas.pydata.org/pandas-docs/stable/indexing.html#indexing-view-versus-copy\n",
      "  \"\"\"Entry point for launching an IPython kernel.\n"
     ]
    }
   ],
   "source": [
    "train_num.drop(\"SalePrice\",axis = 1,inplace=True)"
   ]
  },
  {
   "cell_type": "markdown",
   "metadata": {},
   "source": [
    "# Remove bad features"
   ]
  },
  {
   "cell_type": "code",
   "execution_count": 821,
   "metadata": {
    "scrolled": false
   },
   "outputs": [
    {
     "name": "stderr",
     "output_type": "stream",
     "text": [
      "/home/mohan/.local/lib/python3.5/site-packages/ipykernel_launcher.py:2: SettingWithCopyWarning: \n",
      "A value is trying to be set on a copy of a slice from a DataFrame\n",
      "\n",
      "See the caveats in the documentation: http://pandas.pydata.org/pandas-docs/stable/indexing.html#indexing-view-versus-copy\n",
      "  \n",
      "/home/mohan/.local/lib/python3.5/site-packages/ipykernel_launcher.py:3: SettingWithCopyWarning: \n",
      "A value is trying to be set on a copy of a slice from a DataFrame\n",
      "\n",
      "See the caveats in the documentation: http://pandas.pydata.org/pandas-docs/stable/indexing.html#indexing-view-versus-copy\n",
      "  This is separate from the ipykernel package so we can avoid doing imports until\n",
      "/home/mohan/.local/lib/python3.5/site-packages/ipykernel_launcher.py:5: SettingWithCopyWarning: \n",
      "A value is trying to be set on a copy of a slice from a DataFrame\n",
      "\n",
      "See the caveats in the documentation: http://pandas.pydata.org/pandas-docs/stable/indexing.html#indexing-view-versus-copy\n",
      "  \"\"\"\n",
      "/home/mohan/.local/lib/python3.5/site-packages/ipykernel_launcher.py:6: SettingWithCopyWarning: \n",
      "A value is trying to be set on a copy of a slice from a DataFrame\n",
      "\n",
      "See the caveats in the documentation: http://pandas.pydata.org/pandas-docs/stable/indexing.html#indexing-view-versus-copy\n",
      "  \n"
     ]
    },
    {
     "name": "stdout",
     "output_type": "stream",
     "text": [
      "Index(['LotFrontage', 'LotArea', 'OverallQual', 'YearBuilt', 'YearRemodAdd',\n",
      "       'MasVnrArea', 'BsmtFinSF1', 'BsmtUnfSF', 'TotalBsmtSF', '1stFlrSF',\n",
      "       '2ndFlrSF', 'GrLivArea', 'BsmtFullBath', 'FullBath', 'HalfBath',\n",
      "       'BedroomAbvGr', 'TotRmsAbvGrd', 'Fireplaces', 'GarageYrBlt',\n",
      "       'GarageCars', 'GarageArea', 'WoodDeckSF', 'OpenPorchSF', '3SsnPorch',\n",
      "       'ScreenPorch', 'PoolArea', 'MoSold', 'Street', 'Utilities', 'LotConfig',\n",
      "       'RoofStyle', 'ExterQual', 'ExterCond', 'BsmtQual', 'BsmtCond',\n",
      "       'BsmtExposure', 'BsmtFinType1', 'HeatingQC', 'KitchenQual',\n",
      "       'Functional', 'FireplaceQu', 'GarageQual', 'GarageCond', 'PavedDrive',\n",
      "       'PoolQC'],\n",
      "      dtype='object')\n",
      "Index(['MSSubClass_112spud', 'MSSubClass_1s46n', 'MSSubClass_1spud',\n",
      "       'MSSubClass_212s', 'MSSubClass_246n', 'MSZoning_FV', 'MSZoning_RL',\n",
      "       'LandContour_4', 'LandContour_HLS', 'Neighborhood_Blmngtn',\n",
      "       'Neighborhood_ClearCr', 'Neighborhood_CollgCr', 'Neighborhood_Crawfor',\n",
      "       'Neighborhood_Gilbert', 'Neighborhood_NWAmes', 'Neighborhood_NoRidge',\n",
      "       'Neighborhood_NridgHt', 'Neighborhood_SawyerW', 'Neighborhood_Somerst',\n",
      "       'Neighborhood_StoneBr', 'Neighborhood_Timber', 'Neighborhood_Veenker',\n",
      "       'Condition1_Norm', 'Condition1_PosA', 'Condition1_PosN',\n",
      "       'Condition1_RRAn', 'Condition1_RRNe', 'Condition1_RRNn',\n",
      "       'Condition2_Norm', 'Condition2_PosA', 'Condition2_PosN',\n",
      "       'Condition2_RRAe', 'BldgType_1', 'BldgType_4', 'HouseStyle_2.5Fin',\n",
      "       'HouseStyle_2Story', 'RoofMatl_Membran', 'RoofMatl_Tar&Grv',\n",
      "       'RoofMatl_WdShake', 'RoofMatl_WdShngl', 'Exterior1st_BrkFace',\n",
      "       'Exterior1st_CemntBd', 'Exterior1st_ImStucc', 'Exterior1st_Stone',\n",
      "       'Exterior1st_VinylSd', 'Exterior2nd_BrkFace', 'Exterior2nd_CmentBd',\n",
      "       'Exterior2nd_ImStucc', 'Exterior2nd_Other', 'Exterior2nd_VinylSd',\n",
      "       'MasVnrType_BrkFace', 'MasVnrType_Stone', 'Foundation_PConc',\n",
      "       'Foundation_Wood', 'Heating_GasA', 'CentralAir_Y', 'Electrical_SBrkr',\n",
      "       'GarageType_Attchd', 'GarageType_BuiltIn', 'GarageFinish_Fin',\n",
      "       'GarageFinish_RFn', 'MiscFeature_No', 'MiscFeature_TenC',\n",
      "       'SaleType_CWD', 'SaleType_Con', 'SaleType_ConLI', 'SaleType_New',\n",
      "       'SaleCondition_Partial'],\n",
      "      dtype='object')\n"
     ]
    }
   ],
   "source": [
    "for i in badnum:\n",
    "    train_num.drop(i,1,inplace=True)\n",
    "    test_num.drop(i,1,inplace=True)\n",
    "for j in badcat:    \n",
    "    train_cat.drop(j,1,inplace=True)\n",
    "    test_cat.drop(j,1,inplace=True)\n",
    "    \n",
    "print(train_num.columns)\n",
    "print(train_cat.columns)"
   ]
  },
  {
   "cell_type": "code",
   "execution_count": 822,
   "metadata": {},
   "outputs": [
    {
     "name": "stdout",
     "output_type": "stream",
     "text": [
      "PoolQC          0\n",
      "WoodDeckSF      0\n",
      "GarageCars      0\n",
      "GarageYrBlt     0\n",
      "Fireplaces      0\n",
      "TotRmsAbvGrd    0\n",
      "BedroomAbvGr    0\n",
      "HalfBath        0\n",
      "FullBath        0\n",
      "BsmtFullBath    0\n",
      "GrLivArea       0\n",
      "2ndFlrSF        0\n",
      "1stFlrSF        0\n",
      "TotalBsmtSF     0\n",
      "BsmtUnfSF       0\n",
      "BsmtFinSF1      0\n",
      "MasVnrArea      0\n",
      "YearRemodAdd    0\n",
      "YearBuilt       0\n",
      "OverallQual     0\n",
      "LotArea         0\n",
      "GarageArea      0\n",
      "OpenPorchSF     0\n",
      "PavedDrive      0\n",
      "3SsnPorch       0\n",
      "GarageCond      0\n",
      "GarageQual      0\n",
      "FireplaceQu     0\n",
      "Functional      0\n",
      "KitchenQual     0\n",
      "HeatingQC       0\n",
      "BsmtFinType1    0\n",
      "BsmtExposure    0\n",
      "BsmtCond        0\n",
      "BsmtQual        0\n",
      "ExterCond       0\n",
      "ExterQual       0\n",
      "RoofStyle       0\n",
      "LotConfig       0\n",
      "Utilities       0\n",
      "Street          0\n",
      "MoSold          0\n",
      "PoolArea        0\n",
      "ScreenPorch     0\n",
      "LotFrontage     0\n",
      "dtype: int64\n"
     ]
    }
   ],
   "source": [
    "print(test_num.isnull().sum().sort_values(ascending=False))"
   ]
  },
  {
   "cell_type": "markdown",
   "metadata": {},
   "source": [
    "# Normalize num features"
   ]
  },
  {
   "cell_type": "markdown",
   "metadata": {},
   "source": [
    "normal = [] \n",
    "for s in train_num.columns:\n",
    "    normal.append(s)\n",
    "normal.remove('YearBuilt')\n",
    "normal.remove('YearRemodAdd')\n",
    "normal.remove('GarageYrBlt')\n",
    "normal.remove('RoofStyle')\n",
    "normal.remove('BsmtFinType1')\n",
    "normal.remove('Functional')\n",
    "normal.remove('PavedDrive')\n",
    "normal.remove('Utilities')\n"
   ]
  },
  {
   "cell_type": "markdown",
   "metadata": {},
   "source": [
    "print (normal)\n",
    "for i in range(0,len(normal)-1):\n",
    "    diff = max(train_num[normal[i]])-min(train_num[normal[i]])\n",
    "    train_num[normal[i]]=train_num[normal[i]]-train_num[normal[i]].mean()\n",
    "    train_num[normal[i]] =train_num[normal[i]]/diff\n",
    "for i in range(0,len(normal)-1):\n",
    "    diff = max(test_num[normal[i]])-min(test_num[normal[i]])\n",
    "    test_num[normal[i]]=test_num[normal[i]]-test_num[normal[i]].mean()\n",
    "    test_num[normal[i]] =test_num[normal[i]]/diff"
   ]
  },
  {
   "cell_type": "code",
   "execution_count": 823,
   "metadata": {},
   "outputs": [
    {
     "name": "stdout",
     "output_type": "stream",
     "text": [
      "PoolQC          0\n",
      "WoodDeckSF      0\n",
      "GarageCars      0\n",
      "GarageYrBlt     0\n",
      "Fireplaces      0\n",
      "TotRmsAbvGrd    0\n",
      "BedroomAbvGr    0\n",
      "HalfBath        0\n",
      "FullBath        0\n",
      "BsmtFullBath    0\n",
      "GrLivArea       0\n",
      "2ndFlrSF        0\n",
      "1stFlrSF        0\n",
      "TotalBsmtSF     0\n",
      "BsmtUnfSF       0\n",
      "BsmtFinSF1      0\n",
      "MasVnrArea      0\n",
      "YearRemodAdd    0\n",
      "YearBuilt       0\n",
      "OverallQual     0\n",
      "LotArea         0\n",
      "GarageArea      0\n",
      "OpenPorchSF     0\n",
      "PavedDrive      0\n",
      "3SsnPorch       0\n",
      "GarageCond      0\n",
      "GarageQual      0\n",
      "FireplaceQu     0\n",
      "Functional      0\n",
      "KitchenQual     0\n",
      "HeatingQC       0\n",
      "BsmtFinType1    0\n",
      "BsmtExposure    0\n",
      "BsmtCond        0\n",
      "BsmtQual        0\n",
      "ExterCond       0\n",
      "ExterQual       0\n",
      "RoofStyle       0\n",
      "LotConfig       0\n",
      "Utilities       0\n",
      "Street          0\n",
      "MoSold          0\n",
      "PoolArea        0\n",
      "ScreenPorch     0\n",
      "LotFrontage     0\n",
      "dtype: int64\n"
     ]
    }
   ],
   "source": [
    "print(test_num.isnull().sum().sort_values(ascending=False))"
   ]
  },
  {
   "cell_type": "markdown",
   "metadata": {},
   "source": [
    "# Identify Good features"
   ]
  },
  {
   "cell_type": "code",
   "execution_count": 824,
   "metadata": {},
   "outputs": [
    {
     "name": "stdout",
     "output_type": "stream",
     "text": [
      "['OverallQual', 'YearBuilt', 'YearRemodAdd', 'TotalBsmtSF', '1stFlrSF', 'GrLivArea', 'FullBath', 'TotRmsAbvGrd', 'GarageCars', 'GarageArea', 'ExterQual', 'BsmtQual', 'KitchenQual', 'FireplaceQu']\n"
     ]
    }
   ],
   "source": [
    "goodnum=[]\n",
    "for s in train_num.columns:\n",
    "    fe = pd.DataFrame(train_num[s])\n",
    "    data =pd.concat([fe,y_train],axis = 1)\n",
    "    co = data.corr()\n",
    "    if co.iloc[0,1]>0.5:\n",
    "        goodnum.append(s)\n",
    "print(goodnum)"
   ]
  },
  {
   "cell_type": "code",
   "execution_count": 825,
   "metadata": {
    "collapsed": true
   },
   "outputs": [],
   "source": [
    "goodnum.remove('YearBuilt')\n",
    "goodnum.remove('YearRemodAdd')"
   ]
  },
  {
   "cell_type": "markdown",
   "metadata": {},
   "source": [
    "Create squared and cubic features"
   ]
  },
  {
   "cell_type": "code",
   "execution_count": 826,
   "metadata": {},
   "outputs": [
    {
     "name": "stderr",
     "output_type": "stream",
     "text": [
      "/home/mohan/.local/lib/python3.5/site-packages/ipykernel_launcher.py:2: SettingWithCopyWarning: \n",
      "A value is trying to be set on a copy of a slice from a DataFrame.\n",
      "Try using .loc[row_indexer,col_indexer] = value instead\n",
      "\n",
      "See the caveats in the documentation: http://pandas.pydata.org/pandas-docs/stable/indexing.html#indexing-view-versus-copy\n",
      "  \n",
      "/home/mohan/.local/lib/python3.5/site-packages/ipykernel_launcher.py:3: SettingWithCopyWarning: \n",
      "A value is trying to be set on a copy of a slice from a DataFrame.\n",
      "Try using .loc[row_indexer,col_indexer] = value instead\n",
      "\n",
      "See the caveats in the documentation: http://pandas.pydata.org/pandas-docs/stable/indexing.html#indexing-view-versus-copy\n",
      "  This is separate from the ipykernel package so we can avoid doing imports until\n"
     ]
    }
   ],
   "source": [
    "for good in goodnum:\n",
    "    train_num[str(good)+'sqr'] = train_num[good]**2\n",
    "    test_num[str(good)+'sqr'] = test_num[good]**2\n",
    " #   train_num[str(good)+'sqr'] = train_num[good]**3\n",
    " #   test_num[str(good)+'sqr'] = test_num[good]**3"
   ]
  },
  {
   "cell_type": "code",
   "execution_count": 827,
   "metadata": {},
   "outputs": [
    {
     "name": "stdout",
     "output_type": "stream",
     "text": [
      "(1460, 68)\n",
      "(1460, 57)\n",
      "(1459, 68)\n",
      "(1459, 57)\n"
     ]
    }
   ],
   "source": [
    "print(train_cat.shape)\n",
    "print(train_num.shape)\n",
    "print(test_cat.shape)\n",
    "print(test_num.shape)"
   ]
  },
  {
   "cell_type": "code",
   "execution_count": 828,
   "metadata": {
    "scrolled": true
   },
   "outputs": [
    {
     "name": "stdout",
     "output_type": "stream",
     "text": [
      "Index(['LotFrontage', 'LotArea', 'OverallQual', 'YearBuilt', 'YearRemodAdd',\n",
      "       'MasVnrArea', 'BsmtFinSF1', 'BsmtUnfSF', 'TotalBsmtSF', '1stFlrSF',\n",
      "       '2ndFlrSF', 'GrLivArea', 'BsmtFullBath', 'FullBath', 'HalfBath',\n",
      "       'BedroomAbvGr', 'TotRmsAbvGrd', 'Fireplaces', 'GarageYrBlt',\n",
      "       'GarageCars', 'GarageArea', 'WoodDeckSF', 'OpenPorchSF', '3SsnPorch',\n",
      "       'ScreenPorch', 'PoolArea', 'MoSold', 'Street', 'Utilities', 'LotConfig',\n",
      "       'RoofStyle', 'ExterQual', 'ExterCond', 'BsmtQual', 'BsmtCond',\n",
      "       'BsmtExposure', 'BsmtFinType1', 'HeatingQC', 'KitchenQual',\n",
      "       'Functional', 'FireplaceQu', 'GarageQual', 'GarageCond', 'PavedDrive',\n",
      "       'PoolQC', 'OverallQualsqr', 'TotalBsmtSFsqr', '1stFlrSFsqr',\n",
      "       'GrLivAreasqr', 'FullBathsqr', 'TotRmsAbvGrdsqr', 'GarageCarssqr',\n",
      "       'GarageAreasqr', 'ExterQualsqr', 'BsmtQualsqr', 'KitchenQualsqr',\n",
      "       'FireplaceQusqr'],\n",
      "      dtype='object')\n"
     ]
    }
   ],
   "source": [
    "print(train_num.columns)"
   ]
  },
  {
   "cell_type": "markdown",
   "metadata": {},
   "source": [
    "# Standardize the data"
   ]
  },
  {
   "cell_type": "markdown",
   "metadata": {},
   "source": [
    "stdSc = StandardScaler()\n",
    "\n",
    "train_num = stdSc.fit_transform(train_num)\n",
    "test_num = stdSc.fit_transform(test_num)\n",
    "#train_cat = stdSc.fit_transform(train_cat)"
   ]
  },
  {
   "cell_type": "code",
   "execution_count": 829,
   "metadata": {},
   "outputs": [
    {
     "name": "stdout",
     "output_type": "stream",
     "text": [
      "False\n",
      "False\n",
      "False\n",
      "False\n"
     ]
    }
   ],
   "source": [
    "print(train_cat.isnull().any().any())\n",
    "print(train_num.isnull().any().any())\n",
    "print(test_cat.isnull().any().any())\n",
    "print(test_num.isnull().any().any())\n",
    "#print(test_num.isnull().sum().sort_values(ascending=False))"
   ]
  },
  {
   "cell_type": "markdown",
   "metadata": {},
   "source": [
    "# Create train and test feature sets"
   ]
  },
  {
   "cell_type": "code",
   "execution_count": 830,
   "metadata": {
    "scrolled": true
   },
   "outputs": [
    {
     "name": "stdout",
     "output_type": "stream",
     "text": [
      "size of train data set:-(1460, 125)\n",
      "size of test data set:-(1459, 125)\n",
      "size of train numerical features:-(1460, 57)\n",
      "size of train categorical features:-(1460, 68)\n",
      "size of test numerical features:-(1459, 57)\n",
      "size of test categorical features:-(1459, 68)\n",
      "Are there any null values in train set - False\n",
      "Are there any null values in test set - False\n"
     ]
    }
   ],
   "source": [
    "#As the \"SalePrice\" is right skewed we transform it to log values and also we can \n",
    "#avoid the negative value prediction for \"SalePrice\"\n",
    "y_train = np.log(y_train)\n",
    "#sns.distplot(int(y_train))\n",
    "# We will revert back this after predict using exp function\n",
    "#to get real SalePrice\n",
    "\n",
    "x_train = pd.concat([train_num,train_cat],axis = 1)\n",
    "x_test = pd.concat([test_num,test_cat],axis =1)\n",
    "\n",
    "#x_train.info()\n",
    "#x_train = train_num\n",
    "#x_test = test_num\n",
    "\n",
    "print(\"size of train data set:-{}\".format(x_train.shape))\n",
    "print(\"size of test data set:-{}\".format(x_test.shape))\n",
    "\n",
    "\n",
    "print(\"size of train numerical features:-{}\".format(train_num.shape))\n",
    "print(\"size of train categorical features:-{}\".format(train_cat.shape))\n",
    "\n",
    "print(\"size of test numerical features:-{}\".format(test_num.shape))\n",
    "print(\"size of test categorical features:-{}\".format(test_cat.shape))\n",
    "\n",
    "\n",
    "print(\"Are there any null values in train set - {}\".format(x_train.isnull().sum().any().any()))\n",
    "print(\"Are there any null values in test set - {}\".format(x_test.isnull().sum().any().any()))"
   ]
  },
  {
   "cell_type": "markdown",
   "metadata": {},
   "source": [
    "# Create RMSE function to select best alpha"
   ]
  },
  {
   "cell_type": "code",
   "execution_count": 831,
   "metadata": {
    "collapsed": true
   },
   "outputs": [],
   "source": [
    "def rmse_cv(model):\n",
    "    rmse = np.sqrt(-cross_val_score(model,x_train,y_train,scoring=\"neg_mean_squared_error\",cv=5))\n",
    "    return rmse"
   ]
  },
  {
   "cell_type": "markdown",
   "metadata": {},
   "source": [
    "# Train classifier"
   ]
  },
  {
   "cell_type": "code",
   "execution_count": 832,
   "metadata": {},
   "outputs": [
    {
     "data": {
      "text/plain": [
       "LassoCV(alphas=[0.0005], copy_X=True, cv=None, eps=0.001, fit_intercept=True,\n",
       "    max_iter=10000, n_alphas=100, n_jobs=1, normalize=False,\n",
       "    positive=False, precompute='auto', random_state=None,\n",
       "    selection='cyclic', tol=0.0001, verbose=False)"
      ]
     },
     "execution_count": 832,
     "metadata": {},
     "output_type": "execute_result"
    }
   ],
   "source": [
    "#clf = LinearRegression(normalize = True) \n",
    "#clf = Ridge(alpha = 10,normalize= True)\n",
    "#clf = RandomForestClassifier()\n",
    "clf = LassoCV(alphas = [0.0005],max_iter=10000)\n",
    "clf.fit(x_train,y_train)"
   ]
  },
  {
   "cell_type": "markdown",
   "metadata": {},
   "source": [
    "# Using Ridge model"
   ]
  },
  {
   "cell_type": "markdown",
   "metadata": {
    "collapsed": true
   },
   "source": [
    "alphas = [0.05, 0.1, 0.3, 1, 3, 5, 10, 15, 30, 50, 75]\n",
    "cv_ridge = [rmse_cv(Ridge(alpha = alpha)).mean() for alpha in alphas]"
   ]
  },
  {
   "cell_type": "markdown",
   "metadata": {},
   "source": [
    "cv_ridge = pd.Series(cv_ridge, index = alphas)\n",
    "cv_ridge.plot(title = \"Validation\")\n",
    "plt.xlabel('alphas')\n",
    "plt.ylabel('rmse')"
   ]
  },
  {
   "cell_type": "markdown",
   "metadata": {},
   "source": [
    "# Using lassoCV"
   ]
  },
  {
   "cell_type": "markdown",
   "metadata": {},
   "source": [
    "alp = [0.05, 0.1, 0.3, 1, 3, 5, 10, 15, 30, 50, 75]\n",
    "cv_lasso = [rmse_cv(LassoCV(alphas = alpha)).mean() for alpha in alp]"
   ]
  },
  {
   "cell_type": "markdown",
   "metadata": {},
   "source": [
    "cv_lasso = pd.Series(cv_lasso, index = alphas)\n",
    "cv_lasso.plot(title = \"Validation\")\n",
    "plt.xlabel('alphas')\n",
    "plt.ylabel('rmse')"
   ]
  },
  {
   "cell_type": "markdown",
   "metadata": {},
   "source": [
    "# Using XGBoost"
   ]
  },
  {
   "cell_type": "markdown",
   "metadata": {},
   "source": [
    "import xgboost as xgb"
   ]
  },
  {
   "cell_type": "markdown",
   "metadata": {},
   "source": [
    "dtrain = xgb.DMatrix(X_train, label = y)\n",
    "dtest = xgb.DMatrix(X_test)"
   ]
  },
  {
   "cell_type": "markdown",
   "metadata": {},
   "source": [
    "# Predict ,Score and make submission file"
   ]
  },
  {
   "cell_type": "code",
   "execution_count": 833,
   "metadata": {},
   "outputs": [],
   "source": [
    "y_test = clf.predict(x_test)\n",
    "#Sp = pd.DataFrame(y_test)\n",
    "#Sp = math.exp(Sp)"
   ]
  },
  {
   "cell_type": "code",
   "execution_count": 834,
   "metadata": {},
   "outputs": [
    {
     "name": "stdout",
     "output_type": "stream",
     "text": [
      "91.5800020025\n"
     ]
    }
   ],
   "source": [
    "print(clf.score(x_train,y_train)*100)\n"
   ]
  },
  {
   "cell_type": "code",
   "execution_count": 835,
   "metadata": {
    "collapsed": true
   },
   "outputs": [],
   "source": [
    "submission = pd.DataFrame({'Id':test_Id,'SalePrice':y_test})\n",
    "submission['SalePrice']= np.exp(submission['SalePrice'])"
   ]
  },
  {
   "cell_type": "code",
   "execution_count": 836,
   "metadata": {
    "collapsed": true
   },
   "outputs": [],
   "source": [
    "submission.to_csv('submission.csv',index = False)"
   ]
  },
  {
   "cell_type": "code",
   "execution_count": 837,
   "metadata": {},
   "outputs": [
    {
     "name": "stdout",
     "output_type": "stream",
     "text": [
      "                Id      SalePrice\n",
      "count  1459.000000    1459.000000\n",
      "mean   2190.000000  177673.687480\n",
      "std     421.321334   75381.353780\n",
      "min    1461.000000   52192.677808\n",
      "25%    1825.500000  125273.542459\n",
      "50%    2190.000000  157075.858083\n",
      "75%    2554.500000  210738.580529\n",
      "max    2919.000000  532894.721582\n"
     ]
    }
   ],
   "source": [
    "print(submission.describe())"
   ]
  },
  {
   "cell_type": "code",
   "execution_count": 838,
   "metadata": {
    "collapsed": true
   },
   "outputs": [],
   "source": [
    "preds=pd.DataFrame({'predictions':clf.predict(x_train),'true':y_train})\n",
    "preds['residuals'] = preds['predictions']-preds['true']"
   ]
  },
  {
   "cell_type": "code",
   "execution_count": 839,
   "metadata": {
    "scrolled": true
   },
   "outputs": [
    {
     "data": {
      "image/png": "[encoded data removed]",
      "text/plain": [
       "<matplotlib.figure.Figure at 0x9cae4fcc>"
      ]
     },
     "metadata": {},
     "output_type": "display_data"
    }
   ],
   "source": [
    "fig,ax = plt.subplots()\n",
    "ax.scatter(preds['predictions'],preds['residuals'],alpha=0.2)\n",
    "plt.xlabel('predictions')\n",
    "plt.ylabel('residuals')\n",
    "plt.show()"
   ]
  },
  {
   "cell_type": "code",
   "execution_count": 840,
   "metadata": {},
   "outputs": [
    {
     "data": {
      "image/png": "[encoded data removed]",
      "text/plain": [
       "<matplotlib.figure.Figure at 0x9cb002ec>"
      ]
     },
     "metadata": {},
     "output_type": "display_data"
    }
   ],
   "source": [
    "fig,ax = plt.subplots()\n",
    "ax.scatter(test_num['GrLivArea'],submission['SalePrice'])\n",
    "plt.show()"
   ]
  },
  {
   "cell_type": "code",
   "execution_count": null,
   "metadata": {
    "collapsed": true
   },
   "outputs": [],
   "source": []
  },
  {
   "cell_type": "code",
   "execution_count": null,
   "metadata": {
    "collapsed": true
   },
   "outputs": [],
   "source": []
  },
  {
   "cell_type": "code",
   "execution_count": null,
   "metadata": {
    "collapsed": true
   },
   "outputs": [],
   "source": []
  }
 ],
 "metadata": {
  "kernelspec": {
   "display_name": "Python 3",
   "language": "python",
   "name": "python3"
  },
  "language_info": {
   "codemirror_mode": {
    "name": "ipython",
    "version": 3
   },
   "file_extension": ".py",
   "mimetype": "text/x-python",
   "name": "python",
   "nbconvert_exporter": "python",
   "pygments_lexer": "ipython3",
   "version": "3.5.2"
  }
 },
 "nbformat": 4,
 "nbformat_minor": 2
}
